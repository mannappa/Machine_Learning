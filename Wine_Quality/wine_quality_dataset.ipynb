{
 "cells": [
  {
   "cell_type": "markdown",
   "metadata": {},
   "source": [
    "### Loading data"
   ]
  },
  {
   "cell_type": "code",
   "execution_count": 12,
   "metadata": {},
   "outputs": [],
   "source": [
    "import pandas as pd\n",
    "import seaborn as sns\n",
    "import matplotlib.pyplot as plt\n",
    "from sklearn.model_selection import train_test_split\n",
    "from sklearn.linear_model import LinearRegression"
   ]
  },
  {
   "cell_type": "code",
   "execution_count": null,
   "metadata": {},
   "outputs": [],
   "source": [
    "#Convert the files to csv before loading data. The data given in the UCI datasets are not in the csv format\n",
    "data_red = pd.read_csv('winequality-red.csv');\n",
    "data_white = pd.read_csv('winequality-white.csv');"
   ]
  },
  {
   "cell_type": "markdown",
   "metadata": {},
   "source": [
    "### Inspect data"
   ]
  },
  {
   "cell_type": "code",
   "execution_count": null,
   "metadata": {},
   "outputs": [],
   "source": [
    "data_red.describe()\n",
    "#data_white.describe()\n",
    "#As per the output from the above commands none of the columns have missing data."
   ]
  },
  {
   "cell_type": "markdown",
   "metadata": {},
   "source": [
    "### Visualize"
   ]
  },
  {
   "cell_type": "code",
   "execution_count": null,
   "metadata": {},
   "outputs": [],
   "source": [
    "data_red.head(5)"
   ]
  },
  {
   "cell_type": "code",
   "execution_count": null,
   "metadata": {},
   "outputs": [],
   "source": [
    "f, axes = plt.subplots(4, 3, figsize=(20, 20))\n",
    "sns.lineplot(x='fixed acidity', y='quality', data=data_red, ax=axes[0][0])\n",
    "sns.lineplot(x='volatile acidity', y='quality', data=data_red, ax=axes[0][1])\n",
    "sns.lineplot(x='citric acid', y='quality', data=data_red, ax=axes[0][2])\n",
    "sns.lineplot(x='residual sugar', y='quality', data=data_red, ax=axes[1][0])\n",
    "sns.lineplot(x='chlorides', y='quality', data=data_red, ax=axes[1][1])\n",
    "sns.lineplot(x='free sulfur dioxide', y='quality', data=data_red, ax=axes[1][2])\n",
    "sns.lineplot(x='fixed acidity', y='quality', data=data_red, ax=axes[2][0])\n",
    "sns.lineplot(x='total sulfur dioxide', y='quality', data=data_red, ax=axes[2][1])\n",
    "sns.lineplot(x='density', y='quality', data=data_red, ax=axes[2][2])\n",
    "sns.lineplot(x='pH', y='quality', data=data_red, ax=axes[3][0])\n",
    "sns.lineplot(x='sulphates', y='quality', data=data_red, ax=axes[3][1])\n",
    "sns.lineplot(x='alcohol', y='quality', data=data_red, ax=axes[3][2])"
   ]
  },
  {
   "cell_type": "markdown",
   "metadata": {},
   "source": [
    "### Seperate data into X and y (result column)"
   ]
  },
  {
   "cell_type": "code",
   "execution_count": 10,
   "metadata": {},
   "outputs": [],
   "source": [
    "X = data_red.iloc[:,:-1]\n",
    "y = data_red.iloc[:,-1]"
   ]
  },
  {
   "cell_type": "markdown",
   "metadata": {},
   "source": [
    "### Split data into train (70%) and test (30%)"
   ]
  },
  {
   "cell_type": "code",
   "execution_count": 13,
   "metadata": {},
   "outputs": [],
   "source": [
    "X_train, X_test, y_train, y_test = train_test_split(X, y, test_size=0.30)"
   ]
  },
  {
   "cell_type": "markdown",
   "metadata": {},
   "source": [
    "### Lets apply a simple model first: LinearRegression"
   ]
  },
  {
   "cell_type": "code",
   "execution_count": null,
   "metadata": {},
   "outputs": [],
   "source": [
    "reg = LinearRegression().fit(X, y)\n"
   ]
  }
 ],
 "metadata": {
  "kernelspec": {
   "display_name": "Python 3",
   "language": "python",
   "name": "python3"
  },
  "language_info": {
   "codemirror_mode": {
    "name": "ipython",
    "version": 3
   },
   "file_extension": ".py",
   "mimetype": "text/x-python",
   "name": "python",
   "nbconvert_exporter": "python",
   "pygments_lexer": "ipython3",
   "version": "3.7.1"
  }
 },
 "nbformat": 4,
 "nbformat_minor": 2
}
